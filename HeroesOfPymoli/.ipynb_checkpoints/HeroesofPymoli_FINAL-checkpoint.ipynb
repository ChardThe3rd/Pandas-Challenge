{
 "cells": [
  {
   "cell_type": "markdown",
   "metadata": {},
   "source": [
    "### Trends of Note Based on the Data\n",
    "* While the majority of our players are male (5 to every 1); Female players and non-disclosed players spent between 6% and 11% more than their male counterparts\n",
    "* The top 5 spenders spent on average $3.45 per purchase with a total purchase value of $13.32.\n",
    "* Almost 45% of the player population is between ages 20-24 and spends the third most per age group\n"
   ]
  },
  {
   "cell_type": "code",
   "execution_count": null,
   "metadata": {},
   "outputs": [],
   "source": [
    "# Dependencies and Setup\n",
    "import pandas as pd\n",
    "import numpy as np\n",
    "\n",
    "# File to Load (Remember to Change These)\n",
    "file_to_load = \"Resources/purchase_data.csv\"\n",
    "\n",
    "# Read Purchasing File and store into Pandas data frame\n",
    "purchase_data = pd.read_csv(file_to_load, encoding=\"ISO-8859-1\")\n",
    "purchase_data.head()"
   ]
  },
  {
   "cell_type": "markdown",
   "metadata": {},
   "source": [
    "## Player Count"
   ]
  },
  {
   "cell_type": "markdown",
   "metadata": {},
   "source": [
    "* Display the total number of players\n"
   ]
  },
  {
   "cell_type": "code",
   "execution_count": null,
   "metadata": {},
   "outputs": [],
   "source": [
    "# Total players\n",
    "player_count = len(purchase_data[\"SN\"].unique())\n",
    "player_count\n",
    "\n",
    "# Create df\n",
    "player_count_table = pd.DataFrame({\"Total Players\": [player_count]})\n",
    "player_count_table"
   ]
  },
  {
   "cell_type": "markdown",
   "metadata": {},
   "source": [
    "## Purchasing Analysis (Total)"
   ]
  },
  {
   "cell_type": "markdown",
   "metadata": {},
   "source": [
    "* Run basic calculations to obtain number of unique items, average price, etc.\n",
    "\n",
    "\n",
    "* Create a summary data frame to hold the results\n",
    "\n",
    "\n",
    "* Optional: give the displayed data cleaner formatting\n",
    "\n",
    "\n",
    "* Display the summary data frame\n"
   ]
  },
  {
   "cell_type": "code",
   "execution_count": null,
   "metadata": {
    "scrolled": true
   },
   "outputs": [],
   "source": [
    "# Number items\n",
    "unique_items_count = len(purchase_data[\"Item ID\"].unique())\n",
    "\n",
    "# Average purchase price\n",
    "avg_purchase_price = purchase_data[\"Price\"].mean()\n",
    "\n",
    "# Total purchases\n",
    "total_purchases = len(purchase_data[\"Purchase ID\"].unique())\n",
    "\n",
    "# Total revenue\n",
    "total_revenue = purchase_data[\"Price\"].sum()\n",
    "\n",
    "# Create df\n",
    "purchasing_analysis_table = pd.DataFrame([{\n",
    "    \"Number of Unique Items\": unique_items_count, \n",
    "    \"Average Price\": avg_purchase_price,\n",
    "    \"Number of Purchases\": total_purchases,\n",
    "    \"Total Revenue\": total_revenue,\n",
    "}], columns=[\"Number of Unique Items\", \"Average Price\", \"Number of Purchases\", \"Total Revenue\"])\n",
    "\n",
    "purchasing_analysis_table[\"Average Price\"] = purchasing_analysis_table[\"Average Price\"].map(\"${0:.2f}\".format)\n",
    "purchasing_analysis_table[\"Total Revenue\"] = purchasing_analysis_table[\"Total Revenue\"].map(\"${0:,.2f}\".format)\n",
    "purchasing_analysis_table"
   ]
  },
  {
   "cell_type": "markdown",
   "metadata": {},
   "source": [
    "## Gender Demographics"
   ]
  },
  {
   "cell_type": "markdown",
   "metadata": {},
   "source": [
    "* Percentage and Count of Male Players\n",
    "\n",
    "\n",
    "* Percentage and Count of Female Players\n",
    "\n",
    "\n",
    "* Percentage and Count of Other / Non-Disclosed\n",
    "\n",
    "\n"
   ]
  },
  {
   "cell_type": "code",
   "execution_count": null,
   "metadata": {},
   "outputs": [],
   "source": [
    "# male players\n",
    "male_players = purchase_data.loc[purchase_data[\"Gender\"] == \"Male\"]\n",
    "male_count = len(male_players[\"SN\"].unique())\n",
    "male_percent = \"{:.2f}%\".format(male_count / player_count * 100)\n",
    "\n",
    "# female players\n",
    "female_players = purchase_data.loc[purchase_data[\"Gender\"] == \"Female\"]\n",
    "female_count = len(female_players[\"SN\"].unique())\n",
    "female_percent = \"{:.2f}%\".format(female_count / player_count * 100)\n",
    "\n",
    "# other\n",
    "other_players = purchase_data.loc[purchase_data[\"Gender\"] == \"Other / Non-Disclosed\"]\n",
    "other_count = len(other_players[\"SN\"].unique())\n",
    "other_percent = \"{:.2f}%\".format(other_count / player_count * 100)\n",
    "\n",
    "# Create df\n",
    "gender_demographics_table = pd.DataFrame([{\n",
    "    \"Gender\": \"Male\", \"Total Count\": male_count, \n",
    "    \"Percentage of Players\": male_percent}, \n",
    "    {\"Gender\": \"Female\", \"Total Count\": female_count, \n",
    "     \"Percentage of Players\": female_percent}, \n",
    "    {\"Gender\": \"Other / Non-Disclosed\", \"Total Count\": other_count, \n",
    "     \"Percentage of Players\": other_percent\n",
    "    }], columns=[\"Gender\", \"Total Count\", \"Percentage of Players\"])\n",
    "\n",
    "gender_demographics_table = gender_demographics_table.set_index(\"Gender\")\n",
    "gender_demographics_table.index.name = None\n",
    "gender_demographics_table"
   ]
  },
  {
   "cell_type": "markdown",
   "metadata": {},
   "source": [
    "\n",
    "## Purchasing Analysis (Gender)"
   ]
  },
  {
   "cell_type": "markdown",
   "metadata": {},
   "source": [
    "* Run basic calculations to obtain purchase count, avg. purchase price, avg. purchase total per person etc. by gender\n",
    "\n",
    "\n",
    "\n",
    "\n",
    "* Create a summary data frame to hold the results\n",
    "\n",
    "\n",
    "* Optional: give the displayed data cleaner formatting\n",
    "\n",
    "\n",
    "* Display the summary data frame"
   ]
  },
  {
   "cell_type": "code",
   "execution_count": null,
   "metadata": {},
   "outputs": [],
   "source": [
    "male_purchase_data = purchase_data.loc[purchase_data[\"Gender\"] == \"Male\", :]\n",
    "male_purchase_count = len(male_purchase_data)\n",
    "\n",
    "avg_male_purchase_price = purchase_data.loc[purchase_data[\"Gender\"] == \"Male\", [\"Price\"]].mean()\n",
    "\n",
    "total_male_purchase_value = purchase_data.loc[purchase_data[\"Gender\"] == \"Male\", [\"Price\"]].sum()\n",
    "\n",
    "female_purchase_data = purchase_data.loc[purchase_data[\"Gender\"] == \"Female\", :]\n",
    "female_purchase_count = len(female_purchase_data)\n",
    "\n",
    "avg_female_purchase_price = purchase_data.loc[purchase_data[\"Gender\"] == \"Female\", [\"Price\"]].mean()\n",
    "\n",
    "total_female_purchase_value = purchase_data.loc[purchase_data[\"Gender\"] == \"Female\", [\"Price\"]].sum()\n",
    "\n",
    "other_purchase_data = purchase_data.loc[purchase_data[\"Gender\"] == \"Other / Non-Disclosed\", :]\n",
    "other_purchase_count = len(other_purchase_data)\n",
    "\n",
    "avg_other_purchase_price = purchase_data.loc[purchase_data[\"Gender\"] == \"Other / Non-Disclosed\", [\"Price\"]].mean()\n",
    "\n",
    "total_other_purchase_value = purchase_data.loc[purchase_data[\"Gender\"] == \"Other / Non-Disclosed\", [\"Price\"]].sum()\n",
    "\n",
    "avg_male_purchase_total_person = total_male_purchase_value / male_count\n",
    "avg_female_purchase_total_person = total_female_purchase_value / female_count\n",
    "avg_other_purchase_total_person = total_other_purchase_value / other_count\n",
    "\n",
    "gender_purchasing_analysis_table = pd.DataFrame([{\n",
    "    \"Gender\": \"Female\", \"Purchase Count\": female_purchase_count, \n",
    "    \"Average Purchase Price\": \"${:.2f}\".format(avg_female_purchase_price[0]), \n",
    "    \"Total Purchase Value\": \"${:.2f}\".format(total_female_purchase_value[0]), \n",
    "    \"Avg Total Purchase per Person\": \"${:.2f}\".format(avg_female_purchase_total_person[0])}, \n",
    "    {\"Gender\": \"Male\", \"Purchase Count\": male_purchase_count, \n",
    "     \"Average Purchase Price\": \"${:.2f}\".format(avg_male_purchase_price[0]), \n",
    "     \"Total Purchase Value\": \"${:,.2f}\".format(total_male_purchase_value[0]), \n",
    "     \"Avg Total Purchase per Person\": \"${:.2f}\".format(avg_male_purchase_total_person[0])}, \n",
    "    {\"Gender\": \"Other / Non-Disclosed\", \"Purchase Count\": other_purchase_count, \n",
    "     \"Average Purchase Price\": \"${:.2f}\".format(avg_other_purchase_price[0]), \n",
    "     \"Total Purchase Value\": \"${:.2f}\".format(total_other_purchase_value[0]), \n",
    "     \"Avg Total Purchase per Person\": \"${:.2f}\".format(avg_other_purchase_total_person[0])\n",
    "    }], columns=[\"Gender\", \"Purchase Count\", \"Average Purchase Price\", \"Total Purchase Value\", \"Avg Total Purchase per Person\"])\n",
    "\n",
    "gender_purchasing_analysis_table = gender_purchasing_analysis_table.set_index(\"Gender\")\n",
    "gender_purchasing_analysis_table.index.name = None\n",
    "gender_purchasing_analysis_table"
   ]
  },
  {
   "cell_type": "markdown",
   "metadata": {},
   "source": [
    "## Age Demographics"
   ]
  },
  {
   "cell_type": "markdown",
   "metadata": {},
   "source": [
    "* Establish bins for ages\n",
    "\n",
    "\n",
    "* Categorize the existing players using the age bins. Hint: use pd.cut()\n",
    "\n",
    "\n",
    "* Calculate the numbers and percentages by age group\n",
    "\n",
    "\n",
    "* Create a summary data frame to hold the results\n",
    "\n",
    "\n",
    "* Optional: round the percentage column to two decimal points\n",
    "\n",
    "\n",
    "* Display Age Demographics Table\n"
   ]
  },
  {
   "cell_type": "code",
   "execution_count": null,
   "metadata": {},
   "outputs": [],
   "source": [
    "# Figure out Ages\n",
    "age_bins = [0, 9, 14, 19, 24, 29, 34, 39, 46]\n",
    "groups_names = [\"<10\", \"10-14\", \"15-19\", \"20-24\", \"25-29\", \"30-34\", \"35-39\", \"40+\"]\n",
    "\n",
    "purchase_data[\"Age Group\"] = pd.cut(purchase_data[\"Age\"], bins=age_bins, labels=groups_names)\n",
    "purchase_data\n",
    "age_group = purchase_data.groupby(\"Age Group\")\n",
    "\n",
    "# players by age\n",
    "total_count_age = age_group[\"SN\"].nunique()\n",
    "\n",
    "# percent by age \n",
    "percentage_by_age = round(total_count_age / player_count * 100,2)\n",
    "\n",
    "# Create df\n",
    "age_demographics_table = pd.DataFrame({\n",
    "    \"Total Count\": total_count_age, \n",
    "    \"Percentage of Players\": percentage_by_age\n",
    "})\n",
    "\n",
    "age_demographics_table[\"Percentage of Players\"] = age_demographics_table[\"Percentage of Players\"].map(\"{0:,.2f}%\".format)\n",
    "age_demographics_table.index.name = None\n",
    "age_demographics_table"
   ]
  },
  {
   "cell_type": "markdown",
   "metadata": {},
   "source": [
    "## Purchasing Analysis (Age)"
   ]
  },
  {
   "cell_type": "markdown",
   "metadata": {},
   "source": [
    "* Bin the purchase_data data frame by age\n",
    "\n",
    "\n",
    "* Run basic calculations to obtain purchase count, avg. purchase price, avg. purchase total per person etc. in the table below\n",
    "\n",
    "\n",
    "* Create a summary data frame to hold the results\n",
    "\n",
    "\n",
    "* Optional: give the displayed data cleaner formatting\n",
    "\n",
    "\n",
    "* Display the summary data frame"
   ]
  },
  {
   "cell_type": "code",
   "execution_count": null,
   "metadata": {},
   "outputs": [],
   "source": [
    "bins = [0, 9, 14, 19, 24, 29, 34, 39, 46]\n",
    "groups_names = [\"<10\", \"10-14\", \"15-19\", \"20-24\", \"25-29\", \"30-34\", \"35-39\", \"40+\"]\n",
    "\n",
    "purchase_data[\"Age Group\"] = pd.cut(purchase_data[\"Age\"], bins=age_bins, labels=groups_names)\n",
    "\n",
    "age_purchase_count = age_group[\"SN\"].count()\n",
    "\n",
    "avg_age_purchase_price = round(age_group[\"Price\"].mean(),2)\n",
    "\n",
    "total_age_purchase_value = round(age_group[\"Price\"].sum(),2)\n",
    "\n",
    "avg_total_age_purchase_person = round(total_age_purchase_value / total_count_age,2)\n",
    "\n",
    "age_purchasing_analysis_table = pd.DataFrame({\n",
    "    \"Purchase Count\": age_purchase_count, \n",
    "    \"Average Purchase Price\": avg_age_purchase_price,\n",
    "    \"Total Purchase Value\": total_age_purchase_value,\n",
    "    \"Avg Total Purchase per Person\": avg_total_age_purchase_person\n",
    "})\n",
    "\n",
    "age_purchasing_analysis_table[\"Average Purchase Price\"] = age_purchasing_analysis_table[\"Average Purchase Price\"].map(\"${0:,.2f}\".format)\n",
    "age_purchasing_analysis_table[\"Total Purchase Value\"] = age_purchasing_analysis_table[\"Total Purchase Value\"].map(\"${0:,.2f}\".format)\n",
    "age_purchasing_analysis_table[\"Avg Total Purchase per Person\"] = age_purchasing_analysis_table[\"Avg Total Purchase per Person\"].map(\"${0:,.2f}\".format)\n",
    "age_purchasing_analysis_table"
   ]
  },
  {
   "cell_type": "markdown",
   "metadata": {},
   "source": [
    "## Top Spenders"
   ]
  },
  {
   "cell_type": "markdown",
   "metadata": {},
   "source": [
    "* Run basic calculations to obtain the results in the table below\n",
    "\n",
    "\n",
    "* Create a summary data frame to hold the results\n",
    "\n",
    "\n",
    "* Sort the total purchase value column in descending order\n",
    "\n",
    "\n",
    "* Optional: give the displayed data cleaner formatting\n",
    "\n",
    "\n",
    "* Display a preview of the summary data frame\n",
    "\n"
   ]
  },
  {
   "cell_type": "code",
   "execution_count": null,
   "metadata": {},
   "outputs": [],
   "source": [
    "top_spenders = purchase_data.groupby(\"SN\")\n",
    "\n",
    "spender_purchase_count = top_spenders[\"Purchase ID\"].count()\n",
    "\n",
    "average_spender_purchase_price = round(top_spenders[\"Price\"].mean(),2)\n",
    "\n",
    "total_spender_purchase_value = top_spenders[\"Price\"].sum()\n",
    "\n",
    "top_spenders_table = pd.DataFrame({ \n",
    "    \"Purchase Count\": spender_purchase_count,\n",
    "    \"Average Purchase Price\": average_spender_purchase_price,\n",
    "    \"Total Purchase Value\": total_spender_purchase_value\n",
    "})\n",
    "\n",
    "sort_top_spenders = top_spenders_table.sort_values([\"Total Purchase Value\"], ascending=False).head()\n",
    "sort_top_spenders[\"Average Purchase Price\"] = sort_top_spenders[\"Average Purchase Price\"].astype(float).map(\"${:,.2f}\".format)\n",
    "sort_top_spenders[\"Total Purchase Value\"] = sort_top_spenders[\"Total Purchase Value\"].astype(float).map(\"${:,.2f}\".format)\n",
    "sort_top_spenders"
   ]
  },
  {
   "cell_type": "markdown",
   "metadata": {},
   "source": [
    "## Most Popular Items"
   ]
  },
  {
   "cell_type": "markdown",
   "metadata": {},
   "source": [
    "* Retrieve the Item ID, Item Name, and Item Price columns\n",
    "\n",
    "\n",
    "* Group by Item ID and Item Name. Perform calculations to obtain purchase count, item price, and total purchase value\n",
    "\n",
    "\n",
    "* Create a summary data frame to hold the results\n",
    "\n",
    "\n",
    "* Sort the purchase count column in descending order\n",
    "\n",
    "\n",
    "* Optional: give the displayed data cleaner formatting\n",
    "\n",
    "\n",
    "* Display a preview of the summary data frame\n",
    "\n"
   ]
  },
  {
   "cell_type": "code",
   "execution_count": null,
   "metadata": {},
   "outputs": [],
   "source": [
    "# find the most popular items\n",
    "popular_items_list = purchase_data[[\"Item ID\", \"Item Name\", \"Price\"]]\n",
    "popular_items = popular_items_list.groupby([\"Item ID\",\"Item Name\"])\n",
    "\n",
    "item_purchase_count = popular_items[\"Price\"].count()\n",
    "\n",
    "item_price = popular_items[\"Price\"].sum()\n",
    "\n",
    "item_purchase_value = item_price / item_purchase_count\n",
    "\n",
    "most_popular_items = pd.DataFrame({\n",
    "    \"Purchase Count\": item_purchase_count, \n",
    "    \"Item Price\": item_purchase_value,\n",
    "    \"Total Purchase Value\": item_price\n",
    "})\n",
    "\n",
    "popular_items_formatted = most_popular_items.sort_values([\"Purchase Count\"], ascending=False).head()\n",
    "popular_items_formatted[\"Item Price\"] = popular_items_formatted[\"Item Price\"].astype(float).map(\"${:,.2f}\".format)\n",
    "popular_items_formatted[\"Total Purchase Value\"] = popular_items_formatted[\"Total Purchase Value\"].astype(float).map(\"${:,.2f}\".format)\n",
    "popular_items_formatted"
   ]
  },
  {
   "cell_type": "markdown",
   "metadata": {},
   "source": [
    "## Most Profitable Items"
   ]
  },
  {
   "cell_type": "markdown",
   "metadata": {},
   "source": [
    "* Sort the above table by total purchase value in descending order\n",
    "\n",
    "\n",
    "* Optional: give the displayed data cleaner formatting\n",
    "\n",
    "\n",
    "* Display a preview of the data frame\n",
    "\n"
   ]
  },
  {
   "cell_type": "code",
   "execution_count": null,
   "metadata": {
    "scrolled": true
   },
   "outputs": [],
   "source": [
    "popular_items_formatted = most_popular_items.sort_values([\"Total Purchase Value\"], ascending=False).head()\n",
    "popular_items_formatted[\"Item Price\"] = popular_items_formatted[\"Item Price\"].astype(float).map(\"${:,.2f}\".format)\n",
    "popular_items_formatted[\"Total Purchase Value\"] = popular_items_formatted[\"Total Purchase Value\"].astype(float).map(\"${:,.2f}\".format)\n",
    "popular_items_formatted"
   ]
  },
  {
   "cell_type": "code",
   "execution_count": null,
   "metadata": {},
   "outputs": [],
   "source": [
    "purchase_data.to_csv(\"Resources/purchase_data_revised.csv\", index=False, header=True)"
   ]
  },
  {
   "cell_type": "code",
   "execution_count": null,
   "metadata": {},
   "outputs": [],
   "source": []
  }
 ],
 "metadata": {
  "anaconda-cloud": {},
  "kernel_info": {
   "name": "python3"
  },
  "kernelspec": {
   "display_name": "Python 3",
   "language": "python",
   "name": "python3"
  },
  "language_info": {
   "codemirror_mode": {
    "name": "ipython",
    "version": 3
   },
   "file_extension": ".py",
   "mimetype": "text/x-python",
   "name": "python",
   "nbconvert_exporter": "python",
   "pygments_lexer": "ipython3",
   "version": "3.7.4"
  },
  "latex_envs": {
   "LaTeX_envs_menu_present": true,
   "autoclose": false,
   "autocomplete": true,
   "bibliofile": "biblio.bib",
   "cite_by": "apalike",
   "current_citInitial": 1,
   "eqLabelWithNumbers": true,
   "eqNumInitial": 1,
   "hotkeys": {
    "equation": "Ctrl-E",
    "itemize": "Ctrl-I"
   },
   "labels_anchors": false,
   "latex_user_defs": false,
   "report_style_numbering": false,
   "user_envs_cfg": false
  },
  "nteract": {
   "version": "0.2.0"
  }
 },
 "nbformat": 4,
 "nbformat_minor": 2
}
